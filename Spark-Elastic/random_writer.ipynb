{
 "cells": [
  {
   "cell_type": "markdown",
   "metadata": {},
   "source": [
    "# Random Data Generator"
   ]
  },
  {
   "cell_type": "markdown",
   "metadata": {},
   "source": [
    "<b>\n",
    "Este bloco de notas gera dados aleatórios no formato:\n",
    "    \n",
    "    {\n",
    "       \"count\": \"contagem de objetos gerados\",\n",
    "       \"name\": \"nome aleatório da LOTR\",\n",
    "       \"value\": \"um valor aleatório entre 0 e 100\",\n",
    "       \"timestamp\": \"um timestamp de época quando o objeto foi criado\"   \n",
    "    }\n",
    "    \n",
    "</b>    "
   ]
  },
  {
   "cell_type": "code",
   "execution_count": 1,
   "metadata": {},
   "outputs": [],
   "source": [
    "import time\n",
    "from datetime import datetime\n",
    "import random\n",
    "import json\n",
    "import os\n",
    "import shutil"
   ]
  },
  {
   "cell_type": "markdown",
   "metadata": {},
   "source": [
    "<b> Primeiro, vamos criar um diretório chamado 'sample'. Se já existir, exclua-o primeiro.</b>"
   ]
  },
  {
   "cell_type": "code",
   "execution_count": 2,
   "metadata": {},
   "outputs": [],
   "source": [
    "if 'sample' in os.listdir():\n",
    "    shutil.rmtree('sample')\n",
    "os.mkdir('sample')"
   ]
  },
  {
   "cell_type": "markdown",
   "metadata": {},
   "source": [
    "<b>Em seguida, gere uma lista de nomes a partir do LOTR. Além disso, inicialize um contador em 0.</b>"
   ]
  },
  {
   "cell_type": "code",
   "execution_count": 3,
   "metadata": {},
   "outputs": [],
   "source": [
    "names = ['Frodo', 'Gandalf', 'Bilbo', 'Samwise', 'Legolas', 'Aragorn']\n",
    "\n",
    "count = 0"
   ]
  },
  {
   "cell_type": "markdown",
   "metadata": {},
   "source": [
    "<b>\n",
    "Agora, vamos gerar alguns dados aleatórios.\n",
    "\n",
    "Escreveremos cada item em um arquivo gerado aleatoriamente no diretório de amostra.\n",
    "</b>"
   ]
  },
  {
   "cell_type": "code",
   "execution_count": 4,
   "metadata": {},
   "outputs": [
    {
     "ename": "KeyboardInterrupt",
     "evalue": "",
     "output_type": "error",
     "traceback": [
      "\u001b[0;31m---------------------------------------------------------------------------\u001b[0m",
      "\u001b[0;31mKeyboardInterrupt\u001b[0m                         Traceback (most recent call last)",
      "\u001b[0;32m<ipython-input-4-3d860c5a9a6c>\u001b[0m in \u001b[0;36m<module>\u001b[0;34m\u001b[0m\n\u001b[1;32m     23\u001b[0m \u001b[0;34m\u001b[0m\u001b[0m\n\u001b[1;32m     24\u001b[0m         \u001b[0;31m# dicione um segundo de sleep\u001b[0m\u001b[0;34m\u001b[0m\u001b[0;34m\u001b[0m\u001b[0;34m\u001b[0m\u001b[0m\n\u001b[0;32m---> 25\u001b[0;31m         \u001b[0mtime\u001b[0m\u001b[0;34m.\u001b[0m\u001b[0msleep\u001b[0m\u001b[0;34m(\u001b[0m\u001b[0;36m1\u001b[0m\u001b[0;34m)\u001b[0m\u001b[0;34m\u001b[0m\u001b[0;34m\u001b[0m\u001b[0m\n\u001b[0m",
      "\u001b[0;31mKeyboardInterrupt\u001b[0m: "
     ]
    }
   ],
   "source": [
    "while True:\n",
    "    \n",
    "    # escreve dados aleatórios em um arquivo aleatório\n",
    "    with open('sample/stream-sample{}.json'.format(random.random()),'w') as f:\n",
    "    \n",
    "        # escolha um valor aleatório entre 0 e 100\n",
    "        random_value = random.randint(0, 100)\n",
    "        \n",
    "        # escolha um nome aleatório da nossa lista de nomes\n",
    "        random_name = names[random.randint(0, len(names) - 1)]\n",
    "        \n",
    "        # gerar timestamp de época\n",
    "        timestamp = int(time.time())\n",
    "        \n",
    "        # gerar um dicionário com alguma saída\n",
    "        data = {'count': count, 'name': random_name, 'value': random_value, 'timestamp': timestamp}\n",
    "        \n",
    "        # escreve os dados em um arquivo aleatório\n",
    "        f.write(json.dumps(data))\n",
    "        \n",
    "        #  incrementar o contador\n",
    "        count+=1\n",
    "        \n",
    "        # dicione um segundo de sleep\n",
    "        time.sleep(1)"
   ]
  },
  {
   "cell_type": "code",
   "execution_count": null,
   "metadata": {},
   "outputs": [],
   "source": []
  }
 ],
 "metadata": {
  "kernelspec": {
   "display_name": "Python 3",
   "language": "python",
   "name": "python3"
  },
  "language_info": {
   "codemirror_mode": {
    "name": "ipython",
    "version": 3
   },
   "file_extension": ".py",
   "mimetype": "text/x-python",
   "name": "python",
   "nbconvert_exporter": "python",
   "pygments_lexer": "ipython3",
   "version": "3.7.3"
  }
 },
 "nbformat": 4,
 "nbformat_minor": 2
}
